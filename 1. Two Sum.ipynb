{
 "cells": [
  {
   "cell_type": "markdown",
   "id": "91f6a6e3",
   "metadata": {},
   "source": [
    "# Two Sum\n",
    "\n",
    "Using two methods :\n",
    "1. Brute Force Method\n",
    "2. Hashmap Method"
   ]
  },
  {
   "cell_type": "markdown",
   "id": "53b29600",
   "metadata": {},
   "source": [
    "BruteForce Method :\n",
    "\n",
    "In this method we will be using two for loops, that means iterating through the list twice. This increases run time O(n^2). "
   ]
  },
  {
   "cell_type": "code",
   "execution_count": 1,
   "id": "513f7a5d",
   "metadata": {},
   "outputs": [
    {
     "data": {
      "text/plain": [
       "[0, 1]"
      ]
     },
     "execution_count": 1,
     "metadata": {},
     "output_type": "execute_result"
    }
   ],
   "source": [
    "def bruteforce(nums, target):\n",
    "    for i in range(len(nums)):\n",
    "        for j in range(i+1, len(nums)):\n",
    "            sum = nums[i] + nums[j]\n",
    "            if sum == target:\n",
    "                return [i, j]\n",
    "            \n",
    "bruteforce([2, 7, 11, 15], 9)"
   ]
  },
  {
   "cell_type": "markdown",
   "id": "b74b5b1b",
   "metadata": {},
   "source": [
    "HashMap Method :\n",
    "\n",
    "In this method we will be using for loop only once to iterate over the list. We create a dictionary called complementarymap. The complement is the difference between the target and the first element at position 0. If the num is in the complementary map then we have found our solution. "
   ]
  },
  {
   "cell_type": "code",
   "execution_count": 3,
   "id": "eb91fce0",
   "metadata": {},
   "outputs": [
    {
     "data": {
      "text/plain": [
       "[0, 1]"
      ]
     },
     "execution_count": 3,
     "metadata": {},
     "output_type": "execute_result"
    }
   ],
   "source": [
    "def twosum(nums, target):\n",
    "    complementmap = dict()\n",
    "    for i in range(len(nums)):\n",
    "        num = nums[i]\n",
    "        complement = target - num\n",
    "        if num in complementmap:\n",
    "            return [complementmap[num], i]\n",
    "        else:\n",
    "            complementmap[complement] = i\n",
    "            \n",
    "twosum([2, 7, 11, 15], 9)"
   ]
  }
 ],
 "metadata": {
  "kernelspec": {
   "display_name": "Python 3",
   "language": "python",
   "name": "python3"
  },
  "language_info": {
   "codemirror_mode": {
    "name": "ipython",
    "version": 3
   },
   "file_extension": ".py",
   "mimetype": "text/x-python",
   "name": "python",
   "nbconvert_exporter": "python",
   "pygments_lexer": "ipython3",
   "version": "3.9.5"
  }
 },
 "nbformat": 4,
 "nbformat_minor": 5
}
